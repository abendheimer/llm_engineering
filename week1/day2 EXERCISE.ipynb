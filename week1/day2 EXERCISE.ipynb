{
 "cells": [
  {
   "cell_type": "markdown",
   "id": "d15d8294-3328-4e07-ad16-8a03e9bbfdb9",
   "metadata": {},
   "source": [
    "# Welcome to your first assignment!\n",
    "\n",
    "Instructions are below. Please give this a try, and look in the solutions folder if you get stuck (or feel free to ask me!)"
   ]
  },
  {
   "cell_type": "markdown",
   "id": "ada885d9-4d42-4d9b-97f0-74fbbbfe93a9",
   "metadata": {},
   "source": [
    "<table style=\"margin: 0; text-align: left;\">\n",
    "    <tr>\n",
    "        <td style=\"width: 150px; height: 150px; vertical-align: middle;\">\n",
    "            <img src=\"../resources.jpg\" width=\"150\" height=\"150\" style=\"display: block;\" />\n",
    "        </td>\n",
    "        <td>\n",
    "            <h2 style=\"color:#f71;\">Just before we get to the assignment --</h2>\n",
    "            <span style=\"color:#f71;\">I thought I'd take a second to point you at this page of useful resources for the course. This includes links to all the slides.<br/>\n",
    "            <a href=\"https://edwarddonner.com/2024/11/13/llm-engineering-resources/\">https://edwarddonner.com/2024/11/13/llm-engineering-resources/</a><br/>\n",
    "            Please keep this bookmarked, and I'll continue to add more useful links there over time.\n",
    "            </span>\n",
    "        </td>\n",
    "    </tr>\n",
    "</table>"
   ]
  },
  {
   "cell_type": "markdown",
   "id": "6e9fa1fc-eac5-4d1d-9be4-541b3f2b3458",
   "metadata": {},
   "source": [
    "# HOMEWORK EXERCISE ASSIGNMENT\n",
    "\n",
    "Upgrade the day 1 project to summarize a webpage to use an Open Source model running locally via Ollama rather than OpenAI\n",
    "\n",
    "You'll be able to use this technique for all subsequent projects if you'd prefer not to use paid APIs.\n",
    "\n",
    "**Benefits:**\n",
    "1. No API charges - open-source\n",
    "2. Data doesn't leave your box\n",
    "\n",
    "**Disadvantages:**\n",
    "1. Significantly less power than Frontier Model\n",
    "\n",
    "## Recap on installation of Ollama\n",
    "\n",
    "Simply visit [ollama.com](https://ollama.com) and install!\n",
    "\n",
    "Once complete, the ollama server should already be running locally.  \n",
    "If you visit:  \n",
    "[http://localhost:11434/](http://localhost:11434/)\n",
    "\n",
    "You should see the message `Ollama is running`.  \n",
    "\n",
    "If not, bring up a new Terminal (Mac) or Powershell (Windows) and enter `ollama serve`  \n",
    "And in another Terminal (Mac) or Powershell (Windows), enter `ollama pull llama3.2`  \n",
    "Then try [http://localhost:11434/](http://localhost:11434/) again.\n",
    "\n",
    "If Ollama is slow on your machine, try using `llama3.2:1b` as an alternative. Run `ollama pull llama3.2:1b` from a Terminal or Powershell, and change the code below from `MODEL = \"llama3.2\"` to `MODEL = \"llama3.2:1b\"`"
   ]
  },
  {
   "cell_type": "code",
   "execution_count": 2,
   "id": "4e2a9393-7767-488e-a8bf-27c12dca35bd",
   "metadata": {},
   "outputs": [],
   "source": [
    "# imports\n",
    "\n",
    "import requests\n",
    "from bs4 import BeautifulSoup\n",
    "from IPython.display import Markdown, display"
   ]
  },
  {
   "cell_type": "code",
   "execution_count": 3,
   "id": "29ddd15d-a3c5-4f4e-a678-873f56162724",
   "metadata": {},
   "outputs": [],
   "source": [
    "# Constants\n",
    "\n",
    "OLLAMA_API = \"http://localhost:11434/api/chat\"\n",
    "HEADERS = {\"Content-Type\": \"application/json\"}\n",
    "MODEL = \"llama3.2\""
   ]
  },
  {
   "cell_type": "code",
   "execution_count": 4,
   "id": "dac0a679-599c-441f-9bf2-ddc73d35b940",
   "metadata": {},
   "outputs": [],
   "source": [
    "# Create a messages list using the same format that we used for OpenAI\n",
    "\n",
    "messages = [\n",
    "    {\"role\": \"user\", \"content\": \"Describe some of the business applications of Generative AI\"}\n",
    "]"
   ]
  },
  {
   "cell_type": "code",
   "execution_count": 5,
   "id": "7bb9c624-14f0-4945-a719-8ddb64f66f47",
   "metadata": {},
   "outputs": [],
   "source": [
    "payload = {\n",
    "        \"model\": MODEL,\n",
    "        \"messages\": messages,\n",
    "        \"stream\": False\n",
    "    }"
   ]
  },
  {
   "cell_type": "code",
   "execution_count": 6,
   "id": "479ff514-e8bd-4985-a572-2ea28bb4fa40",
   "metadata": {},
   "outputs": [
    {
     "name": "stdout",
     "output_type": "stream",
     "text": [
      "\u001b[?25lpulling manifest ⠋ \u001b[?25h\u001b[?25l\u001b[2K\u001b[1Gpulling manifest ⠙ \u001b[?25h\u001b[?25l\u001b[2K\u001b[1Gpulling manifest ⠹ \u001b[?25h\u001b[?25l\u001b[2K\u001b[1Gpulling manifest ⠸ \u001b[?25h\u001b[?25l\u001b[2K\u001b[1Gpulling manifest ⠼ \u001b[?25h\u001b[?25l\u001b[2K\u001b[1Gpulling manifest ⠴ \u001b[?25h\u001b[?25l\u001b[2K\u001b[1Gpulling manifest ⠦ \u001b[?25h\u001b[?25l\u001b[2K\u001b[1Gpulling manifest \n",
      "pulling dde5aa3fc5ff... 100% ▕████████████████▏ 2.0 GB                         \n",
      "pulling 966de95ca8a6... 100% ▕████████████████▏ 1.4 KB                         \n",
      "pulling fcc5a6bec9da... 100% ▕████████████████▏ 7.7 KB                         \n",
      "pulling a70ff7e570d9... 100% ▕████████████████▏ 6.0 KB                         \n",
      "pulling 56bb8bd477a5... 100% ▕████████████████▏   96 B                         \n",
      "pulling 34bb5ab01051... 100% ▕████████████████▏  561 B                         \n",
      "verifying sha256 digest \n",
      "writing manifest \n",
      "success \u001b[?25h\n"
     ]
    }
   ],
   "source": [
    "# Let's just make sure the model is loaded\n",
    "\n",
    "!ollama pull llama3.2"
   ]
  },
  {
   "cell_type": "code",
   "execution_count": 7,
   "id": "42b9f644-522d-4e05-a691-56e7658c0ea9",
   "metadata": {},
   "outputs": [
    {
     "name": "stdout",
     "output_type": "stream",
     "text": [
      "Generative AI has numerous business applications across various industries, including:\n",
      "\n",
      "1. **Content Generation**: AI can generate high-quality content such as articles, blog posts, social media posts, product descriptions, and more. This can help businesses reduce content creation costs and increase productivity.\n",
      "2. **Product Design**: Generative AI can assist in designing new products, such as furniture, electronics, or clothing, by generating 3D models and prototypes.\n",
      "3. **Marketing and Advertising**: AI-powered tools can create personalized advertisements, social media posts, and product promotions based on customer data and preferences.\n",
      "4. **Customer Service Chatbots**: Generative AI can power chatbots that provide customer support, answering frequently asked questions and routing complex issues to human representatives.\n",
      "5. **Data Analysis and Visualization**: AI can analyze large datasets and generate visualizations such as charts, graphs, and maps, helping businesses make data-driven decisions.\n",
      "6. **Predictive Maintenance**: Generative AI can predict equipment failures and schedule maintenance, reducing downtime and increasing overall efficiency.\n",
      "7. **Personalized Recommendations**: AI-powered systems can provide personalized product recommendations to customers based on their browsing history, purchase behavior, and preferences.\n",
      "8. **Translation and Localization**: Generative AI can generate translations for businesses operating in multiple languages, helping them expand their global reach.\n",
      "9. **Image and Video Generation**: AI can create realistic images and videos for various applications such as advertising, entertainment, and education.\n",
      "10. **Supply Chain Optimization**: Generative AI can analyze supply chain data and predict demand, helping businesses optimize inventory levels, reduce waste, and improve logistics.\n",
      "\n",
      "Some specific business use cases of Generative AI include:\n",
      "\n",
      "* **Amazon's Product Recommendations**: Amazon uses Generative AI to provide personalized product recommendations to customers based on their browsing history and purchase behavior.\n",
      "* **Google's Image Search**: Google uses Generative AI to generate images for its image search feature, allowing users to visualize search results more effectively.\n",
      "* **Netflix's Content Recommendation**: Netflix uses Generative AI to recommend TV shows and movies to users based on their viewing history and preferences.\n",
      "* **Coca-Cola's Advertisements**: Coca-Cola uses Generative AI to create personalized advertisements based on customer data and preferences.\n",
      "\n",
      "These are just a few examples of the many business applications of Generative AI. As the technology continues to evolve, we can expect to see even more innovative use cases in various industries.\n"
     ]
    }
   ],
   "source": [
    "# If this doesn't work for any reason, try the 2 versions in the following cells\n",
    "# And double check the instructions in the 'Recap on installation of Ollama' at the top of this lab\n",
    "# And if none of that works - contact me!\n",
    "\n",
    "response = requests.post(OLLAMA_API, json=payload, headers=HEADERS)\n",
    "print(response.json()['message']['content'])"
   ]
  },
  {
   "cell_type": "markdown",
   "id": "6a021f13-d6a1-4b96-8e18-4eae49d876fe",
   "metadata": {},
   "source": [
    "# Introducing the ollama package\n",
    "\n",
    "And now we'll do the same thing, but using the elegant ollama python package instead of a direct HTTP call.\n",
    "\n",
    "Under the hood, it's making the same call as above to the ollama server running at localhost:11434"
   ]
  },
  {
   "cell_type": "code",
   "execution_count": 8,
   "id": "7745b9c4-57dc-4867-9180-61fa5db55eb8",
   "metadata": {},
   "outputs": [
    {
     "name": "stdout",
     "output_type": "stream",
     "text": [
      "Generative AI has numerous business applications across various industries, including:\n",
      "\n",
      "1. **Content Creation**: Generative AI can create high-quality content such as text, images, videos, and music, reducing the need for human writers and designers.\n",
      "2. **Chatbots and Virtual Assistants**: Generative AI-powered chatbots can understand user queries, provide personalized responses, and improve customer service experiences.\n",
      "3. **Product Design and Development**: Generative AI can design and develop new products, such as 3D models, product prototypes, and even entire product lines.\n",
      "4. **Image and Video Generation**: Generative AI can create realistic images and videos for various applications, including advertising, marketing, and entertainment.\n",
      "5. **Marketing and Advertising**: Generative AI can generate personalized ad content, such as video ads, social media posts, and email campaigns, increasing engagement and conversion rates.\n",
      "6. **Data Analysis and Visualization**: Generative AI can analyze large datasets, identify patterns, and visualize insights to help businesses make data-driven decisions.\n",
      "7. **Predictive Maintenance and Quality Control**: Generative AI can predict equipment failures, detect anomalies, and optimize production processes, reducing downtime and improving quality control.\n",
      "8. **Sales Forecasting and Pipeline Management**: Generative AI can analyze sales data, identify trends, and predict future sales performance, helping businesses to better manage their sales pipelines.\n",
      "9. **Supply Chain Optimization**: Generative AI can optimize supply chain operations by analyzing logistics data, predicting demand, and identifying bottlenecks.\n",
      "10. **Customer Service and Support**: Generative AI-powered chatbots and virtual assistants can provide 24/7 customer support, freeing up human resources for more complex issues.\n",
      "\n",
      "Some specific examples of businesses that are leveraging generative AI include:\n",
      "\n",
      "* **Netflix**: Using generative AI to create personalized content recommendations\n",
      "* **Amazon**: Leveraging generative AI to personalize product suggestions and recommend new products\n",
      "* **Unilever**: Using generative AI to develop new skin care products and optimize production processes\n",
      "* **Accenture**: Using generative AI to improve customer service experiences through chatbots and virtual assistants\n",
      "* **De Beers**: Using generative AI to create unique diamond designs and predict demand for specific gemstones.\n",
      "\n",
      "These are just a few examples of the many businesses that are already leveraging generative AI to drive innovation, efficiency, and growth.\n"
     ]
    }
   ],
   "source": [
    "import ollama\n",
    "\n",
    "response = ollama.chat(model=MODEL, messages=messages)\n",
    "print(response['message']['content'])"
   ]
  },
  {
   "cell_type": "markdown",
   "id": "a4704e10-f5fb-4c15-a935-f046c06fb13d",
   "metadata": {},
   "source": [
    "## Alternative approach - using OpenAI python library to connect to Ollama"
   ]
  },
  {
   "cell_type": "code",
   "execution_count": 9,
   "id": "23057e00-b6fc-4678-93a9-6b31cb704bff",
   "metadata": {},
   "outputs": [
    {
     "name": "stdout",
     "output_type": "stream",
     "text": [
      "Generative AI has numerous business applications across various industries, including:\n",
      "\n",
      "1. **Content Creation**: Generative AI can generate high-quality content such as:\n",
      " * Blog posts and articles\n",
      " * Social media posts and ads\n",
      " * Product descriptions and reviews\n",
      " * Email newsletters and marketing materials\n",
      "2. **Product Design and Development**: Generative AI can help in designing and developing new products, including:\n",
      " * 3D modeling and product design\n",
      " * Prototyping and testing\n",
      " * Conceptualization of new product ideas\n",
      "3. **Image and Video Generation**: Generative AI can generate high-quality images and videos for:\n",
      " * Advertising and marketing campaigns\n",
      " * Social media content creation\n",
      " * Product photography and videography\n",
      " * Filmmaking and animation\n",
      "4. **Speech and Audio Synthesis**: Generative AI can synthesize speech and audio for:\n",
      " * Voice assistants and virtual assistants\n",
      " * Automated phone systems\n",
      " * Podcasting and audio content creation\n",
      "5. **Music and Sound Design**: Generative AI can generate original music and sound effects for:\n",
      " * Film and television productions\n",
      " * Video games\n",
      " * Advertising and marketing campaigns\n",
      "6. **Data Analysis and Visualization**: Generative AI can help in data analysis and visualization, including:\n",
      " * Predictive analytics and forecasting\n",
      " * Data modeling and simulation\n",
      " * Data-driven insights and recommendations\n",
      "7. **Automation and Process Optimization**: Generative AI can automate repetitive tasks and optimize business processes for:\n",
      " * Customer service and support\n",
      " * Account management and sales\n",
      " * Supply chain management and logistics\n",
      "8. **Cybersecurity**: Generative AI can help in detecting and responding to cyber threats, including:\n",
      " * Network traffic analysis and anomaly detection\n",
      " * Intrusion detection and prevention\n",
      " * Malware analysis and detection\n",
      "9. **Customer Experience Management**: Generative AI can create personalized customer experiences through:\n",
      " * Chatbots and virtual assistants\n",
      " * Personalized product recommendations and content\n",
      " * Sentiment analysis and emotional intelligence\n",
      "\n",
      "Some specific examples of businesses using generative AI include:\n",
      "\n",
      "1. **JPMorgan Chase**: Using generative AI to automate loan processing and reduce risk.\n",
      "2. **Microsoft**: Utilizing generative AI to create personalized customer experiences through its Microsoft Azure platform.\n",
      "3. **Nike**: Leveraging generative AI to design new product concepts, prototypes, and virtual try-on experiences.\n",
      "4. **Accenture**: Applying generative AI to optimize business processes and improve customer experiences in various industries.\n",
      "5. **Sephora**: Using generative AI to create personalized product recommendations, content creation, and social media engagement.\n",
      "\n",
      "These are just a few examples of the many business applications of Generative AI, which continue to expand as technology advances.\n"
     ]
    }
   ],
   "source": [
    "# There's actually an alternative approach that some people might prefer\n",
    "# You can use the OpenAI client python library to call Ollama:\n",
    "\n",
    "from openai import OpenAI\n",
    "ollama_via_openai = OpenAI(base_url='http://localhost:11434/v1', api_key='ollama')\n",
    "\n",
    "response = ollama_via_openai.chat.completions.create(\n",
    "    model=MODEL,\n",
    "    messages=messages\n",
    ")\n",
    "\n",
    "print(response.choices[0].message.content)"
   ]
  },
  {
   "cell_type": "markdown",
   "id": "1622d9bb-5c68-4d4e-9ca4-b492c751f898",
   "metadata": {},
   "source": [
    "# NOW the exercise for you\n",
    "\n",
    "Take the code from day1 and incorporate it here, to build a website summarizer that uses Llama 3.2 running locally instead of OpenAI; use either of the above approaches."
   ]
  },
  {
   "cell_type": "code",
   "execution_count": null,
   "id": "402d5686-4e76-4110-b65a-b3906c35c0a4",
   "metadata": {},
   "outputs": [],
   "source": []
  }
 ],
 "metadata": {
  "kernelspec": {
   "display_name": "llms",
   "language": "python",
   "name": "python3"
  },
  "language_info": {
   "codemirror_mode": {
    "name": "ipython",
    "version": 3
   },
   "file_extension": ".py",
   "mimetype": "text/x-python",
   "name": "python",
   "nbconvert_exporter": "python",
   "pygments_lexer": "ipython3",
   "version": "3.11.11"
  }
 },
 "nbformat": 4,
 "nbformat_minor": 5
}
