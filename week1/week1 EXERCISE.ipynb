{
 "cells": [
  {
   "cell_type": "markdown",
   "id": "fe12c203-e6a6-452c-a655-afb8a03a4ff5",
   "metadata": {},
   "source": [
    "# End of week 1 exercise\n",
    "\n",
    "To demonstrate your familiarity with OpenAI API, and also Ollama, build a tool that takes a technical question,  \n",
    "and responds with an explanation. This is a tool that you will be able to use yourself during the course!"
   ]
  },
  {
   "cell_type": "code",
   "execution_count": 37,
   "id": "c1070317-3ed9-4659-abe3-828943230e03",
   "metadata": {},
   "outputs": [],
   "source": [
    "# imports\n",
    "\n",
    "from dotenv import load_dotenv\n",
    "from IPython.display import Markdown, display, update_display\n",
    "from openai import OpenAI\n",
    "import ollama"
   ]
  },
  {
   "cell_type": "code",
   "execution_count": 38,
   "id": "4a456906-915a-4bfd-bb9d-57e505c5093f",
   "metadata": {},
   "outputs": [],
   "source": [
    "# constants\n",
    "\n",
    "MODEL_GPT = 'gpt-4o-mini'\n",
    "MODEL_LLAMA = 'llama3.2'\n",
    "\n"
   ]
  },
  {
   "cell_type": "code",
   "execution_count": 39,
   "id": "a8d7923c-5f28-4c30-8556-342d7c8497c1",
   "metadata": {},
   "outputs": [],
   "source": [
    "# set up environment\n",
    "load_dotenv()\n",
    "openai = OpenAI()"
   ]
  },
  {
   "cell_type": "code",
   "execution_count": 40,
   "id": "3f0d0137-52b0-47a8-81a8-11a90a010798",
   "metadata": {},
   "outputs": [],
   "source": [
    "# here is the question; type over this to ask something new\n",
    "\n",
    "question = \"\"\"\n",
    "Please explain what this code does and why:\n",
    "yield from {book.get(\"author\") for book in books if book.get(\"author\")}\n",
    "\"\"\""
   ]
  },
  {
   "cell_type": "code",
   "execution_count": 41,
   "id": "42e426ce",
   "metadata": {},
   "outputs": [],
   "source": [
    "system_prompt = \"Your are an nice and sometime funny technical expert working as a tutor, who answers questions about AI, LLM's, Mechanical Things, software engineering, data sience and software architecture. \"\n",
    "user_prompt = \"Please give a detailed explanation to the following question: \" + question"
   ]
  },
  {
   "cell_type": "code",
   "execution_count": 42,
   "id": "e63cfcd9",
   "metadata": {},
   "outputs": [],
   "source": [
    "messages = [{\"role\": \"system\", \"content\": system_prompt},\n",
    "    {\"role\": \"user\", \"content\": user_prompt}]"
   ]
  },
  {
   "cell_type": "code",
   "execution_count": 43,
   "id": "60ce7000-a4a5-4cce-a261-e75ef45063b4",
   "metadata": {},
   "outputs": [
    {
     "data": {
      "text/markdown": [
       "This code snippet is using Python's `yield from` alongside a set comprehension to create a generator that produces unique authors from a list (or iterable) of books. Let's break it down step by step:\n",
       "\n",
       "1. **Understanding `yield from`**: \n",
       "   - The `yield` keyword is used to turn a function into a generator. It allows the function to yield control back to the caller, essentially pausing the function until the next value is requested. \n",
       "   - The `yield from` expression is a way to yield all the values from an iterable (like a list, set, or another generator). This means that instead of yielding one value at a time, you can yield all values from another iterable in a clean and concise way.\n",
       "\n",
       "2. **The set comprehension `{...}`**:\n",
       "   - The code is using a set comprehension, which is a concise way to create a set in Python. Sets are unordered collections of unique elements, meaning that if the same value is added multiple times, it will only appear once in the final set.\n",
       "   - Here, the set comprehension `{book.get(\"author\") for book in books if book.get(\"author\")}` iterates through each `book` in the `books` iterable (which is expected to be a list of dictionaries or objects representing books), extracting the value associated with the key `\"author\"`.\n",
       "\n",
       "3. **Filtering with `if book.get(\"author\")`**:\n",
       "   - The `if book.get(\"author\")` part filters out any books that do not have an author. The `get` method is safe since it returns `None` (falsy) if the key doesn’t exist, thus ensuring that only books with an existing `\"author\"` key contribute to the set.\n",
       "   - This means if a book doesn't have an author (or if there's a `None` value), it won't be included in the resulting set.\n",
       "\n",
       "4. **Combining it all together**:\n",
       "   - The overall effect of the entire line is to iterate through a collection of `books`, extract unique authors from those books, and yield them one by one.\n",
       "   - This is particularly useful when you potentially have multiple books by the same author and you only want to get the distinct author names without duplicates.\n",
       "\n",
       "### Example Scenario\n",
       "\n",
       "For example, if you have the following data structure:\n",
       "\n",
       "python\n",
       "books = [\n",
       "    {\"title\": \"Book A\", \"author\": \"Author 1\"},\n",
       "    {\"title\": \"Book B\", \"author\": \"Author 2\"},\n",
       "    {\"title\": \"Book C\", \"author\": \"Author 1\"},\n",
       "    {\"title\": \"Book D\"},\n",
       "    {\"title\": \"Book E\", \"author\": \"Author 3\"}\n",
       "]\n",
       "\n",
       "\n",
       "When the code is executed, the unique result would be:\n",
       "\n",
       "- `'Author 1'`\n",
       "- `'Author 2'`\n",
       "- `'Author 3'`\n",
       "\n",
       "This means that calling your generator function that contains this line will produce these authors one at a time when iterated over.\n",
       "\n",
       "### Why Use This?\n",
       "\n",
       "- **Memory Efficient**: Using a generator with `yield` allows for processing a large list without loading it all into memory at once.\n",
       "- **Uniqueness**: Using a set comprehension guarantees that each author is only yielded once, preventing duplicates from appearing in your output.\n",
       "- **Clarity**: The combination of set comprehension and `yield from` creates a clear and understandable expression of what you're trying to accomplish: collecting unique author names from a collection of books.\n",
       "\n",
       "In summary, this code elegantly combines Python features to create a generator that emits unique author names from a list of books while ignoring entries without authors. What a neat and classy way to scope out the literary scene! 📚✨"
      ],
      "text/plain": [
       "<IPython.core.display.Markdown object>"
      ]
     },
     "metadata": {},
     "output_type": "display_data"
    }
   ],
   "source": [
    "# Get gpt-4o-mini to answer, with streaming\n",
    "stream = openai.chat.completions.create(model=MODEL_GPT, messages=messages, stream=True)\n",
    "\n",
    "response=\"\"\n",
    "display_handle = display(Markdown(\"\"), display_id=True)\n",
    "for chunk in stream:\n",
    "    response += chunk.choices[0].delta.content or ''\n",
    "    response = response.replace(\"```\",\"\").replace(\"markdown\", \"\")\n",
    "    update_display(Markdown(response), display_id=display_handle.display_id)\n"
   ]
  },
  {
   "cell_type": "code",
   "execution_count": 44,
   "id": "8f7c8ea8-4082-4ad0-8751-3301adcf6538",
   "metadata": {},
   "outputs": [
    {
     "data": {
      "text/markdown": [
       "The code you've posted is written in Python and utilizes a concept called \"yield\" along with \"generator expressions.\" Let's break it down:\n",
       "\n",
       "```python\n",
       "yield from {\n",
       "    book.get(\"author\") \n",
       "    for book in books \n",
       "    if book.get(\"author\")\n",
       "}\n",
       "```\n",
       "\n",
       "Here's what each part of the expression does:\n",
       "\n",
       "- `books`: This is an iterable object (e.g., a list, tuple, set, or dictionary) that contains dictionaries. In this context, we're assuming `books` is a collection of books where each book is represented by a dictionary.\n",
       "\n",
       "- `{...}`: This is a dictionary literal that will serve as the target for the \"yield from\" statement.\n",
       "\n",
       "- `book.get(\"author\")`: For each book in the `books` iterable, this expression retrieves the value associated with the key `\"author\"` from the corresponding book dictionary. If the key does not exist (i.e., the book does not have an author), `get()` will return `None`.\n",
       "\n",
       "- `for book in books if book.get(\"author\")`: This is a generator expression that filters out books without an author.\n",
       "\n",
       "- `yield from {...}`: The \"yield from\" statement is used to delegate the generation of values to another iterable. In this case, it delegates the task of yielding book authors to the dictionary literal inside the brackets. When the code reaches this point in execution, it will yield the value(s) specified inside the dictionary literal.\n",
       "\n",
       "Here's what happens when you execute this expression:\n",
       "\n",
       "1. Python iterates over the `books` collection.\n",
       "2. For each book, if the book has an author, it retrieves the author's name from the book dictionary.\n",
       "3. The retrieved authors are collected into a generator expression.\n",
       "4. The \"yield from\" statement delegates this generator to the dictionary literal inside the brackets.\n",
       "5. Python yields each book author as its value.\n",
       "\n",
       "This means that when you use `yield from {...}`, instead of creating an entire list or other data structure containing all the author names, it generates values on the fly and uses a single iteration over the original books collection.\n",
       "\n",
       "Here's an equivalent example to illustrate this:\n",
       "\n",
       "```python\n",
       "def get_authors(books):\n",
       "    for book in books:\n",
       "        if book.get(\"author\"):\n",
       "            yield book[\"author\"]\n",
       "\n",
       "# Usage:\n",
       "for author in get_authors(books):\n",
       "    print(author)\n",
       "```\n",
       "\n",
       "However, using `yield from` makes the code more concise and readable when dealing with large datasets:\n",
       "\n",
       "```python\n",
       "def get_authors(books):\n",
       "    for book in books:\n",
       "        if book.get(\"author\"):\n",
       "            yield book[\"author\"]\n",
       "\n",
       "# Usage:\n",
       "for author in get_authors(books):\n",
       "    print(author)\n",
       "```\n",
       "\n",
       "In summary, `yield from {book.get(\"author\") for book in books if book.get(\"author\")}` is a concise way to extract author names from a collection of books where each book has a dictionary representation. It delegates the task of generating these values to another iterable (the generator expression) and uses \"yield from\" to efficiently yield values without storing them all in memory at once."
      ],
      "text/plain": [
       "<IPython.core.display.Markdown object>"
      ]
     },
     "metadata": {},
     "output_type": "display_data"
    }
   ],
   "source": [
    "# Get Llama 3.2 to answer\n",
    "response = ollama.chat(model=MODEL_LLAMA, messages=messages)\n",
    "reply = response['message']['content']\n",
    "display(Markdown(reply))"
   ]
  },
  {
   "cell_type": "code",
   "execution_count": 45,
   "id": "e268f4ff",
   "metadata": {},
   "outputs": [],
   "source": [
    "def get_model_responses(question):\n",
    " \n",
    "    user_input_prompt = f\"Please give a detailed explanation to the following question: {question}\"\n",
    "\n",
    "    messages = [\n",
    "        {\"role\": \"system\", \"content\": system_prompt},\n",
    "        {\"role\": \"user\", \"content\": user_input_prompt}\n",
    "    ]\n",
    "     # GPT-4o-mini Response with Streaming\n",
    "    print(\"Fetching response from GPT-4o-mini...\")\n",
    "    stream = openai.chat.completions.create(model=MODEL_GPT, messages=messages, stream=True)\n",
    "\n",
    "    response_gpt = \"\"\n",
    "    display_handle = display(Markdown(\"\"), display_id=True)\n",
    "    for chunk in stream:\n",
    "        response_gpt += chunk.choices[0].delta.content or ''\n",
    "        response_gpt = response_gpt.replace(\"```\", \"\").replace(\"markdown\", \"\")\n",
    "        update_display(Markdown(response_gpt), display_id=display_handle.display_id)\n",
    "\n",
    "    # Llama 3.2 Response\n",
    "    print(\"Fetching response from Llama 3.2...\")\n",
    "    response_llama = ollama.chat(model=MODEL_LLAMA, messages=messages)\n",
    "    reply_llama = response_llama['message']['content']\n",
    "    display(Markdown(reply_llama))"
   ]
  },
  {
   "cell_type": "code",
   "execution_count": 46,
   "id": "b58e6fa2",
   "metadata": {},
   "outputs": [
    {
     "name": "stdout",
     "output_type": "stream",
     "text": [
      "Fetching response from GPT-4o-mini...\n"
     ]
    },
    {
     "data": {
      "text/markdown": [
       "Oh, I’m glad you asked this. It’s a classic! So, let's break it down step by step.\n",
       "\n",
       "1. **Understanding the Numbers**: You have two numbers here: 10 and 10. Each of these numbers represents a quantity. In this case, each one has a value of ten.\n",
       "\n",
       "2. **Addition Operation**: The \"+\" operator signifies that we are performing an addition operation. This means we're combining these two quantities.\n",
       "\n",
       "3. **Performing the Calculation**: \n",
       "   - Start with the first number: 10.\n",
       "   - Next, you add the second number: 10.\n",
       "   - So, 10 + 10 = 20.\n",
       "\n",
       "4. **Conclusion**: After performing the addition, you find that the sum of 10 and 10 is 20.\n",
       "\n",
       "In a nutshell, when you put two tens together, you get twenty, which is quite a handy little math fact to remember! \n",
       "\n",
       "And there you go! Not only did we solve a simple math problem, but we also had a good old-fashioned number chat. If you have more serious or technical queries (or even more math problems!), feel free to ask!"
      ],
      "text/plain": [
       "<IPython.core.display.Markdown object>"
      ]
     },
     "metadata": {},
     "output_type": "display_data"
    },
    {
     "name": "stdout",
     "output_type": "stream",
     "text": [
      "Fetching response from Llama 3.2...\n"
     ]
    },
    {
     "data": {
      "text/markdown": [
       "My friend, I'm happy to help you with that simple yet important math problem!\n",
       "\n",
       "However, before we dive into the answer, let's take a step back and appreciate the complexity of this question. You see, when you ask \"Whats 10 + 10\", it might seem like a straightforward calculation to many people. But, trust me, there's more to it than meets the eye.\n",
       "\n",
       "**The Math**\n",
       "\n",
       "Now, let's do the math:\n",
       "\n",
       "10 + 10 = ?\n",
       "\n",
       "We can break it down step by step:\n",
       "\n",
       "1. We start with the number 10.\n",
       "2. We add another 10 to it.\n",
       "3. The result of this addition is... (dramatic pause) ...20!\n",
       "\n",
       "So, indeed, 10 + 10 equals 20.\n",
       "\n",
       "**But Wait, There's More!**\n",
       "\n",
       "Now, let's talk about some deeper implications of this question:\n",
       "\n",
       "1. **Mathematical Properties**: This calculation demonstrates a fundamental property of arithmetic: the commutative property of addition. This means that when you add two numbers together, the order in which they're added doesn't change the result.\n",
       "2. **Cognitive Biases**: When we ask \"Whats 10 + 10\", we might be influenced by cognitive biases like confirmation bias or overconfidence. For example, if someone answers incorrectly, it's not because they're mathematically challenged, but rather because of a flawed assumption or incomplete information.\n",
       "3. **The Limits of Language**: The question itself is a perfect example of the limitations of language. We use words to represent mathematical concepts, but sometimes these representations can be ambiguous or misleading.\n",
       "\n",
       "**And Finally...**\n",
       "\n",
       "So, my friend, to answer your original question: 10 + 10 equals 20. But remember, this is just a simple math problem that hides deeper insights into mathematics, cognition, and language.\n",
       "\n",
       "Now, if you'll excuse me, I have some more complex problems to tackle – like explaining LLMs or AI decision-making algorithms to my students!"
      ],
      "text/plain": [
       "<IPython.core.display.Markdown object>"
      ]
     },
     "metadata": {},
     "output_type": "display_data"
    }
   ],
   "source": [
    "my_question = input(\"Please enter your question: \")\n",
    "get_model_responses(my_question)"
   ]
  }
 ],
 "metadata": {
  "kernelspec": {
   "display_name": "llms",
   "language": "python",
   "name": "python3"
  },
  "language_info": {
   "codemirror_mode": {
    "name": "ipython",
    "version": 3
   },
   "file_extension": ".py",
   "mimetype": "text/x-python",
   "name": "python",
   "nbconvert_exporter": "python",
   "pygments_lexer": "ipython3",
   "version": "3.11.11"
  }
 },
 "nbformat": 4,
 "nbformat_minor": 5
}
