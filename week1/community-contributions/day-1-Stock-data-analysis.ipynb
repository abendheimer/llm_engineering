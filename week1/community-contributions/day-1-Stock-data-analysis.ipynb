{
 "cells": [
  {
   "cell_type": "markdown",
   "id": "306f1a67-4f1c-4aed-8f80-2a8458a1bce5",
   "metadata": {},
   "source": [
    "# Stock data analysis"
   ]
  },
  {
   "cell_type": "code",
   "execution_count": 1,
   "id": "4e2a9393-7767-488e-a8bf-27c12dca35bd",
   "metadata": {},
   "outputs": [],
   "source": [
    "import os\n",
    "import requests\n",
    "from dotenv import load_dotenv\n",
    "from bs4 import BeautifulSoup\n",
    "from IPython.display import Markdown, display\n",
    "from openai import OpenAI\n",
    "\n",
    "# If you get an error running this cell, then please head over to the troubleshooting notebook!"
   ]
  },
  {
   "cell_type": "markdown",
   "id": "6900b2a8-6384-4316-8aaa-5e519fca4254",
   "metadata": {},
   "source": [
    "# Connecting to OpenAI"
   ]
  },
  {
   "cell_type": "code",
   "execution_count": 2,
   "id": "7b87cadb-d513-4303-baee-a37b6f938e4d",
   "metadata": {},
   "outputs": [
    {
     "name": "stdout",
     "output_type": "stream",
     "text": [
      "API key found and looks good so far!\n"
     ]
    }
   ],
   "source": [
    "# Load environment variables in a file called .env\n",
    "\n",
    "load_dotenv(override=True)\n",
    "api_key = os.getenv('OPENAI_API_KEY')\n",
    "\n",
    "# Check the key\n",
    "\n",
    "if not api_key:\n",
    "    print(\"No API key was found - please head over to the troubleshooting notebook in this folder to identify & fix!\")\n",
    "elif not api_key.startswith(\"sk-proj-\"):\n",
    "    print(\"An API key was found, but it doesn't start sk-proj-; please check you're using the right key - see troubleshooting notebook\")\n",
    "elif api_key.strip() != api_key:\n",
    "    print(\"An API key was found, but it looks like it might have space or tab characters at the start or end - please remove them - see troubleshooting notebook\")\n",
    "else:\n",
    "    print(\"API key found and looks good so far!\")\n"
   ]
  },
  {
   "cell_type": "code",
   "execution_count": 3,
   "id": "019974d9-f3ad-4a8a-b5f9-0a3719aea2d3",
   "metadata": {},
   "outputs": [],
   "source": [
    "openai = OpenAI()"
   ]
  },
  {
   "cell_type": "code",
   "execution_count": 4,
   "id": "51d42a08-188e-4c56-9578-47cd549bd1d8",
   "metadata": {},
   "outputs": [],
   "source": [
    "from urllib.parse import urlencode\n",
    "import datetime\n",
    "\n",
    "headers = {\n",
    " \"User-Agent\": \"Mozilla/5.0 (Windows NT 10.0; Win64; x64) AppleWebKit/537.36 (KHTML, like Gecko) Chrome/117.0.0.0 Safari/537.36\"\n",
    "}"
   ]
  },
  {
   "cell_type": "code",
   "execution_count": 5,
   "id": "682eff74-55c4-4d4b-b267-703edbc293c7",
   "metadata": {},
   "outputs": [],
   "source": [
    "class YahooFinanceWebsite:\n",
    "    def __init__(self, stock_symbol):\n",
    "        \"\"\"\n",
    "        Create this Website object from the given url using the BeautifulSoup library\n",
    "        \"\"\"\n",
    "        self.stock_symbol = stock_symbol.upper()\n",
    "\n",
    "    def __build_url(self, params):\n",
    "        base_url = f\"https://finance.yahoo.com/quote/{self.stock_symbol}/history/\"\n",
    "        query_string = urlencode(params)\n",
    "        return f\"{base_url}?{query_string}\"\n",
    "\n",
    "    def get_stock_data(self):\n",
    "        datetime_now = datetime.datetime.now()\n",
    "        datetime_year_ago = datetime_now - datetime.timedelta(days=365)\n",
    "        params = {\"frequency\": \"1wk\", \"period1\": datetime_year_ago.timestamp(), \"period2\": datetime_now.timestamp()}\n",
    "        url = self.__build_url(params)\n",
    "        response = requests.get(url, headers=headers)\n",
    "\n",
    "        soup = BeautifulSoup(response.content, 'html.parser')\n",
    "        \n",
    "        title = soup.title.string if soup.title else \"No title found\"\n",
    "        for irrelevant in soup.body([\"script\", \"style\", \"img\", \"input\"]):\n",
    "            irrelevant.decompose()\n",
    "\n",
    "        html_table_data = soup.find(\"table\")\n",
    "\n",
    "        return title, html_table_data"
   ]
  },
  {
   "cell_type": "code",
   "execution_count": 6,
   "id": "70b8d7e7-51e7-4392-9b85-9ac9f67a907c",
   "metadata": {},
   "outputs": [],
   "source": [
    "def build_stock_analysis_prompt(stock_symbol, title, stock_table_data):\n",
    "    sys_prompt = r\"\"\"You are an assistant that analyzes the contents of HTML formated table that contains data on a specific stock.\n",
    "    The HTML table contains the date, open price, close price, low and highs aggregated for every week over one year timeframe.\n",
    "    Ignoring text, tags or html attributes that might be navigation related. \n",
    "    Respond in Markdown format\"\"\"\n",
    "    \n",
    "    user_prompt = f\"The data provided below in the HTML table format for {stock_symbol} from the Yahoo Finances.\\\n",
    "    Make the explaination easy enough for a newbie to understand. \\\n",
    "    Analyze and Summarize the trends on this stock:\\n{stock_table_data}\\n\\n\\\n",
    "    Also, calculate the total returns in percentage one could have expected over this period.\"\n",
    "    \n",
    "    return [\n",
    "        {\"role\": \"system\", \"content\": sys_prompt},\n",
    "        {\"role\": \"user\", \"content\": user_prompt}\n",
    "    ]"
   ]
  },
  {
   "cell_type": "code",
   "execution_count": 7,
   "id": "de514421-4cc8-4881-85b4-97f03e94c589",
   "metadata": {},
   "outputs": [],
   "source": [
    "def analyze_stock_trends(stock_symbol):\n",
    "    stock_data_page = YahooFinanceWebsite(stock_symbol)\n",
    "    title, stock_table_data = stock_data_page.get_stock_data()\n",
    "    response = openai.chat.completions.create(\n",
    "        model = \"gpt-4o-mini\",\n",
    "        messages = build_stock_analysis_prompt(stock_symbol, title, stock_table_data)\n",
    "    )\n",
    "    return response.choices[0].message.content\n",
    "\n",
    "def display_analysis(stock_symbol):\n",
    "    display(Markdown(analyze_stock_trends(stock_symbol)))"
   ]
  },
  {
   "cell_type": "code",
   "execution_count": 8,
   "id": "41acc36f-484a-4257-a240-cf27520e7396",
   "metadata": {},
   "outputs": [
    {
     "data": {
      "text/markdown": [
       "### Summary of Stock Trends for GOOG\n",
       "\n",
       "Based on the provided weekly closing prices for Google (GOOG) over approximately one year, let's analyze the trends and calculate potential returns.\n",
       "\n",
       "#### Key Data Overview\n",
       "- **Price Movement:** The stock opened at prices as low as **136.54** and reached highs up to **202.14**.\n",
       "- **Closing Prices:** \n",
       "  - The most recent closing price (January 13, 2025) was **192.29**.\n",
       "  - Closing prices earlier in the timeline ranged significantly, including lows around **142.17**.\n",
       "\n",
       "#### Observed Trends\n",
       "1. **Upward Trend:**\n",
       "   - Over the one-year duration (January 2024 to January 2025), GOOG's stock price experienced an overall upward trend, particularly notable between **Jan 2024** (around **143.54**) and **Dec 2024** (up to **194.04**).\n",
       "   - The stock saw moments of significant growth, especially from **March 2024** (around **137.07**) to **January 2025**.\n",
       "\n",
       "2. **Volatility:**\n",
       "   - The stock exhibited volatility, with peaks (highs) frequently exceeding **$200**, indicating that prices can vary greatly even within short spans.\n",
       "   - There are notable drops (such as the drop from **167.00** in mid-August to **155.72** by mid-April).\n",
       "\n",
       "3. **Recovery and Growth:**\n",
       "   - Following significant drops, there were recoveries, such as rising from **160.28** at the end of March to **192.29** in January.\n",
       "   - The stock frequently showed weekly price rebounds after dips, suggesting a resilient performance through fluctuations.\n",
       "\n",
       "#### Total Returns Calculation\n",
       "To calculate the total returns over the year based on the provided closing prices:\n",
       "\n",
       "- **Start Price (Jan 15, 2024):** **147.97**\n",
       "- **End Price (Jan 13, 2025):** **192.29**\n",
       "\n",
       "**Total Return Formula:**\n",
       "\\[ \\text{Total Return (\\%)} = \\left( \\frac{\\text{End Price} - \\text{Start Price}}{\\text{Start Price}} \\right) \\times 100 \\]\n",
       "\n",
       "**Substituting the Values:**\n",
       "\\[ \\text{Total Return (\\%)} = \\left( \\frac{192.29 - 147.97}{147.97} \\right) \\times 100 \\]\n",
       "\n",
       "Calculating:\n",
       "\\[ = \\left( \\frac{44.32}{147.97} \\right) \\times 100 \\]\n",
       "\\[ = 29.96\\% \\]\n",
       "\n",
       "### Conclusion\n",
       "- Over the analyzed year, GOOG's stock price reflects a **29.96% return** on investment, highlighting a solid performance for potential investors.\n",
       "- The stock showcases a general upward momentum despite periods of volatility, making it a noteworthy option for consideration in future investments. \n",
       "\n",
       "### Investment Insight\n",
       "For a newbie in the stock market, this analysis suggests that while there are fluctuations in stock prices, consistent upward trends can offer good returns. Diversifying investments and staying informed about market behaviors is essential for successful investing."
      ],
      "text/plain": [
       "<IPython.core.display.Markdown object>"
      ]
     },
     "metadata": {},
     "output_type": "display_data"
    }
   ],
   "source": [
    "display_analysis(\"GOOG\")"
   ]
  },
  {
   "cell_type": "code",
   "execution_count": 9,
   "id": "7e09541f-bbc4-4cf3-a1ef-9ed5e1b718e4",
   "metadata": {},
   "outputs": [
    {
     "data": {
      "text/markdown": [
       "### Analysis and Summary of PFE (Pfizer Inc.) Stock Trends\n",
       "\n",
       "#### **Overview of the Table Data:**\n",
       "The provided data displays weekly stock performance for Pfizer Inc. (PFE) over the past year, covering key metrics such as:\n",
       "- **Date**: The specific week of the data.\n",
       "- **Open**: The price at which the stock opened for that week.\n",
       "- **High**: The highest price during the week.\n",
       "- **Low**: The lowest price during the week.\n",
       "- **Close**: The price at which the stock closed for that week.\n",
       "- **Adj Close**: The adjusted closing price considering dividends and splits.\n",
       "- **Volume**: The number of shares traded during that week.\n",
       "\n",
       "#### **Trends Observed:**\n",
       "1. **Price Fluctuations**:\n",
       "   - The price of PFE shares fluctuated notably throughout the year. Early in the year, prices ranged approximately from $25 to $30.\n",
       "   - The stock hit higher points at around $30.93 and lower points around $24.48.\n",
       "   - A significant amount of fluctuation occurred between $25 and $29 during the second half of the year.\n",
       "\n",
       "2. **Overall Performance**:\n",
       "   - The overall trend shows a decline from about January 2024 ($28.60) to lower levels towards the end of the year, reaching as low as $25.40 in late April 2024.\n",
       "   - After April, the stock fluctuated within the range of $25 to $30 throughout the remaining months of the year.\n",
       "\n",
       "3. **Volume Insights**:\n",
       "   - Volume peaked significantly on several occasions, specifically in late December and early January, with trading volumes sometimes exceeding 300 million shares, indicating high investor interest and activity.\n",
       "\n",
       "4. **Dividend Payments**:\n",
       "   - The stock pays dividends regularly (notably on dates like Nov 8, Jul 26, and Jan 25), which may influence an investor's decision-making regarding holding or selling the stock due to the additional income derived from dividends.\n",
       "\n",
       "5. **Final Context**:\n",
       "   - The last recorded close in January 2025 was $26.80, indicating that while the stock has experienced volatility, it has not significantly strayed from this range.\n",
       "\n",
       "#### **Total Returns Calculation**:\n",
       "To calculate the total returns in percentage over the analyzed period:\n",
       "\n",
       "1. **Start Price**: Closing price on the start date (Jan 15, 2024): $28.28\n",
       "2. **End Price**: Closing price on the end date (Jan 13, 2025): $26.80\n",
       "3. **Total Return Formula**:\n",
       "   \\[\n",
       "   \\text{Total Return} = \\left(\\frac{\\text{End Price} - \\text{Start Price}}{\\text{Start Price}}\\right) \\times 100\n",
       "   \\]\n",
       "   \\[\n",
       "   \\text{Total Return} = \\left(\\frac{26.80 - 28.28}{28.28}\\right) \\times 100 = -5.25\\%\n",
       "   \\]\n",
       "\n",
       "### **Conclusion**:\n",
       "- Over the analyzed period, PFE stock displayed significant fluctuations with a general downtrend towards the end of the year, concluding with a total return of approximately **-5.25%**. \n",
       "- The drastic variations in price, coupled with high trading volumes, suggest that investors should remain informed and vigilant regarding market conditions and company performance to make educated investment decisions."
      ],
      "text/plain": [
       "<IPython.core.display.Markdown object>"
      ]
     },
     "metadata": {},
     "output_type": "display_data"
    }
   ],
   "source": [
    "display_analysis(\"PFE\")"
   ]
  },
  {
   "cell_type": "code",
   "execution_count": 10,
   "id": "e6af9395-0c5c-4265-a309-baba786bfa71",
   "metadata": {},
   "outputs": [
    {
     "data": {
      "text/markdown": [
       "# AAPL Stock Trends Analysis\n",
       "\n",
       "Here's a summarized analysis of Apple Inc. (AAPL) stock based on the provided weekly data for 2024 and part of 2025.\n",
       "\n",
       "## Key Metrics\n",
       "- **Open Price**: Price of the stock at the beginning of the week.\n",
       "- **Close Price**: Price of the stock at the end of the week.\n",
       "- **High and Low**: The highest and lowest prices of the stock during the week.\n",
       "- **Volume**: The amount of shares traded during the week.\n",
       "\n",
       "## Observations and Trends\n",
       "\n",
       "### General Trend Over Time\n",
       "1. **Increasing Trend**: The stock price shows an overall increasing trend from early 2024 to early 2025. The stock opened at around **$182.16** in mid-January 2024 and reached **$234.40** by mid-January 2025.\n",
       "   \n",
       "2. **Resistance and Support Levels**: \n",
       "   - **Resistance**: The stock reached its highest point of around **$254.77** in late December 2024. This indicates an area where selling may occur, creating a challenge for the price to rise further.\n",
       "   - **Support**: In mid-April 2024, the stock dropped to around **$165.00**, showing that this level acted as a support point where buyers were willing to step in.\n",
       "\n",
       "3. **Volatility**: There were periods of higher volatility, especially between **May and June 2024**, where the weekly closing prices fluctuated significantly (e.g., from around **$196** to **$212**).\n",
       "\n",
       "4. **Volume Fluctuations**: \n",
       "   - Noticeable spikes in volume occurred at times which indicate increased interest from investors, both buying and selling behaviors.\n",
       "   - For instance, high volumes of above **600 million** shares were observed in early June 2024.\n",
       "\n",
       "### Dividends\n",
       "- The stock provided dividends on several occasions during 2024, notably in **November 2024** and **May 2024** with a dividend of **$0.25** and **$0.25**, respectively. This is attractive for income-focused investors.\n",
       "\n",
       "## Total Returns Calculation\n",
       "\n",
       "To calculate the total returns based on the opening price on Jan 15, 2024, and the closing price on Jan 13, 2025:\n",
       "\n",
       "- **Opening Price (Jan 15, 2024)**: **$182.16**\n",
       "- **Closing Price (Jan 13, 2025)**: **$234.40**\n",
       "\n",
       "### Total Returns Formula\n",
       "\\[\n",
       "\\text{Total Returns (\\%)} = \\left(\\frac{\\text{Final Price} - \\text{Initial Price}}{\\text{Initial Price}}\\right) \\times 100\n",
       "\\]\n",
       "\n",
       "### Calculation\n",
       "\\[\n",
       "\\text{Total Returns (\\%)} = \\left(\\frac{234.40 - 182.16}{182.16}\\right) \\times 100 \\approx 28.66\\%\n",
       "\\]\n",
       "\n",
       "## Summary\n",
       "- The AAPL stock price has shown a strong upward trend from early 2024 to early 2025, with some fluctuations in price.\n",
       "- Key points of resistance and support indicate areas where the stock price encounters higher selling or buying interests.\n",
       "- The stock issued dividends, contributing to overall shareholder returns.\n",
       "- An investor from mid-January 2024 to mid-January 2025 could have expected an approximate total return of **28.66%**. \n",
       "\n",
       "This analysis indicates a period of growth for AAPL, making it an interesting prospect for potential investors, though caution should be taken during times of volatility."
      ],
      "text/plain": [
       "<IPython.core.display.Markdown object>"
      ]
     },
     "metadata": {},
     "output_type": "display_data"
    }
   ],
   "source": [
    "display_analysis(\"AAPL\")"
   ]
  },
  {
   "cell_type": "code",
   "execution_count": null,
   "id": "afe4f6d1-a6ea-44b5-81ae-8e756cfc0d84",
   "metadata": {},
   "outputs": [],
   "source": []
  }
 ],
 "metadata": {
  "kernelspec": {
   "display_name": "llms",
   "language": "python",
   "name": "python3"
  },
  "language_info": {
   "codemirror_mode": {
    "name": "ipython",
    "version": 3
   },
   "file_extension": ".py",
   "mimetype": "text/x-python",
   "name": "python",
   "nbconvert_exporter": "python",
   "pygments_lexer": "ipython3",
   "version": "3.11.11"
  }
 },
 "nbformat": 4,
 "nbformat_minor": 5
}
